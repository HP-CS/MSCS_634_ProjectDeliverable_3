{
 "cells": [
  {
   "cell_type": "markdown",
   "id": "8aa4749c",
   "metadata": {},
   "source": [
    "# Deliverable 3: Classification, Clustering, and Pattern Mining"
   ]
  },
  {
   "cell_type": "code",
   "execution_count": null,
   "id": "b0278a0d",
   "metadata": {},
   "outputs": [],
   "source": [
    "# Import libraries\n",
    "import pandas as pd\n",
    "import numpy as np\n",
    "import matplotlib.pyplot as plt\n",
    "import seaborn as sns\n",
    "from sklearn.model_selection import train_test_split, GridSearchCV\n",
    "from sklearn.tree import DecisionTreeClassifier\n",
    "from sklearn.neighbors import KNeighborsClassifier\n",
    "from sklearn.metrics import confusion_matrix, classification_report, roc_curve, auc\n",
    "from sklearn.cluster import KMeans\n",
    "from mlxtend.frequent_patterns import apriori, association_rules\n"
   ]
  },
  {
   "cell_type": "code",
   "execution_count": null,
   "id": "9970ccc8",
   "metadata": {},
   "outputs": [],
   "source": [
    "# Load dataset\n",
    "df = pd.read_excel('Online Retail.xlsx')\n",
    "\n",
    "# Data Cleaning (same as previous deliverables)\n",
    "df = df.dropna(subset=['CustomerID'])\n",
    "df = df.drop_duplicates(subset=['InvoiceNo', 'StockCode'])\n",
    "df = df[(df['Quantity'] > 0) & (df['UnitPrice'] > 0)]\n",
    "df['TotalPrice'] = df['Quantity'] * df['UnitPrice']\n"
   ]
  },
  {
   "cell_type": "markdown",
   "id": "d687c17a",
   "metadata": {},
   "source": [
    "## Feature Engineering for Classification\n",
    "Create features for customer segmentation classification tasks."
   ]
  },
  {
   "cell_type": "code",
   "execution_count": null,
   "id": "79032a35",
   "metadata": {},
   "outputs": [],
   "source": [
    "# Aggregate customer data\n",
    "customer_df = df.groupby('CustomerID').agg({\n",
    "    'Quantity': 'sum',\n",
    "    'UnitPrice': 'mean',\n",
    "    'TotalPrice': 'sum',\n",
    "    'InvoiceNo': 'nunique'\n",
    "}).reset_index()\n",
    "\n",
    "customer_df.rename(columns={\n",
    "    'Quantity': 'TotalQuantity',\n",
    "    'UnitPrice': 'AvgUnitPrice',\n",
    "    'TotalPrice': 'TotalSpent',\n",
    "    'InvoiceNo': 'NumPurchases'\n",
    "}, inplace=True)\n",
    "\n",
    "# Create a binary classification target: High spender vs Low spender\n",
    "threshold = customer_df['TotalSpent'].median()\n",
    "customer_df['HighSpender'] = (customer_df['TotalSpent'] > threshold).astype(int)\n",
    "\n",
    "# Features and target\n",
    "X = customer_df[['TotalQuantity', 'AvgUnitPrice', 'NumPurchases']]\n",
    "y = customer_df['HighSpender']\n",
    "\n",
    "# Split dataset\n",
    "X_train, X_test, y_train, y_test = train_test_split(X, y, test_size=0.2, random_state=42)\n"
   ]
  },
  {
   "cell_type": "markdown",
   "id": "e77342d3",
   "metadata": {},
   "source": [
    "## Classification Models"
   ]
  },
  {
   "cell_type": "code",
   "execution_count": null,
   "id": "d8dfef56",
   "metadata": {},
   "outputs": [],
   "source": [
    "# Decision Tree Classifier\n",
    "dt = DecisionTreeClassifier(random_state=42)\n",
    "dt.fit(X_train, y_train)\n",
    "y_pred_dt = dt.predict(X_test)\n",
    "\n",
    "# Evaluation\n",
    "print(\"Decision Tree Classification Report:\")\n",
    "print(classification_report(y_test, y_pred_dt))\n"
   ]
  },
  {
   "cell_type": "code",
   "execution_count": null,
   "id": "1121b1be",
   "metadata": {},
   "outputs": [],
   "source": [
    "# k-Nearest Neighbors Classifier\n",
    "knn = KNeighborsClassifier(n_neighbors=5)\n",
    "knn.fit(X_train, y_train)\n",
    "y_pred_knn = knn.predict(X_test)\n",
    "\n",
    "# Evaluation\n",
    "print(\"k-NN Classification Report:\")\n",
    "print(classification_report(y_test, y_pred_knn))\n"
   ]
  },
  {
   "cell_type": "markdown",
   "id": "a38b5ac7",
   "metadata": {},
   "source": [
    "## Hyperparameter Tuning for k-NN"
   ]
  },
  {
   "cell_type": "code",
   "execution_count": null,
   "id": "3f89d480",
   "metadata": {},
   "outputs": [],
   "source": [
    "# Hyperparameter tuning for k-NN\n",
    "param_grid = {'n_neighbors': range(1, 20)}\n",
    "grid_knn = GridSearchCV(KNeighborsClassifier(), param_grid, cv=5, scoring='accuracy')\n",
    "grid_knn.fit(X_train, y_train)\n",
    "print(f\"Best k for k-NN: {grid_knn.best_params_['n_neighbors']}\")\n"
   ]
  },
  {
   "cell_type": "code",
   "execution_count": null,
   "id": "0652dc31",
   "metadata": {},
   "outputs": [],
   "source": [
    "# ROC Curve for best k-NN\n",
    "y_proba_knn = grid_knn.predict_proba(X_test)[:,1]\n",
    "fpr, tpr, thresholds = roc_curve(y_test, y_proba_knn)\n",
    "roc_auc = auc(fpr, tpr)\n",
    "\n",
    "plt.figure()\n",
    "plt.plot(fpr, tpr, color='darkorange', lw=2, label=f'ROC curve (area = {roc_auc:.2f})')\n",
    "plt.plot([0, 1], [0, 1], color='navy', lw=2, linestyle='--')\n",
    "plt.xlabel('False Positive Rate')\n",
    "plt.ylabel('True Positive Rate')\n",
    "plt.title('ROC Curve - k-NN')\n",
    "plt.legend(loc=\"lower right\")\n",
    "plt.show()\n"
   ]
  },
  {
   "cell_type": "markdown",
   "id": "9614455b",
   "metadata": {},
   "source": [
    "## Clustering Model"
   ]
  },
  {
   "cell_type": "code",
   "execution_count": null,
   "id": "07e15702",
   "metadata": {},
   "outputs": [],
   "source": [
    "# K-Means Clustering\n",
    "kmeans = KMeans(n_clusters=3, random_state=42)\n",
    "clusters = kmeans.fit_predict(X)\n",
    "\n",
    "# Add cluster labels to data\n",
    "customer_df['Cluster'] = clusters\n",
    "\n",
    "# Visualize Clusters\n",
    "plt.figure(figsize=(8,6))\n",
    "sns.scatterplot(x='TotalQuantity', y='TotalSpent', hue='Cluster', data=customer_df, palette='Set1')\n",
    "plt.title('Customer Segments by K-Means Clustering')\n",
    "plt.show()\n"
   ]
  },
  {
   "cell_type": "markdown",
   "id": "52526eb0",
   "metadata": {},
   "source": [
    "## Association Rule Mining"
   ]
  },
  {
   "cell_type": "code",
   "execution_count": null,
   "id": "3f841498",
   "metadata": {},
   "outputs": [],
   "source": [
    "# Prepare data for Apriori\n",
    "basket = df.groupby(['InvoiceNo', 'Description'])['Quantity'].sum().unstack().reset_index().fillna(0).set_index('InvoiceNo')\n",
    "basket = basket.applymap(lambda x: 1 if x > 0 else 0)\n",
    "\n",
    "# Apply Apriori\n",
    "frequent_itemsets = apriori(basket, min_support=0.05, use_colnames=True)\n",
    "rules = association_rules(frequent_itemsets, metric='lift', min_threshold=1.0)\n",
    "rules.sort_values('confidence', ascending=False, inplace=True)\n",
    "rules.head()\n"
   ]
  },
  {
   "cell_type": "markdown",
   "id": "798b058a",
   "metadata": {},
   "source": [
    "## Insights and Observations\n",
    "- **Classification**: Decision Tree and k-NN models effectively predicted high spenders. Tuning k-NN improved accuracy.\n",
    "- **Clustering**: K-Means identified customer segments with distinct purchasing behaviors.\n",
    "- **Pattern Mining**: Apriori discovered common itemsets in customer transactions, useful for marketing strategies.\n"
   ]
  }
 ],
 "metadata": {},
 "nbformat": 4,
 "nbformat_minor": 5
}
